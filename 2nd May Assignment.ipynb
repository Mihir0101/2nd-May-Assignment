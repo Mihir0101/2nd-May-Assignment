{
 "cells": [
  {
   "cell_type": "markdown",
   "id": "491c1e5e-08a2-45b0-a56e-336dd30ceec7",
   "metadata": {},
   "source": [
    "# 2nd May Assignment"
   ]
  },
  {
   "cell_type": "code",
   "execution_count": null,
   "id": "169ab491-64be-4a54-a5c3-32464131075c",
   "metadata": {},
   "outputs": [],
   "source": []
  },
  {
   "cell_type": "markdown",
   "id": "b2035ec5-cf38-42c6-a97c-816f328336a4",
   "metadata": {},
   "source": [
    "## Q1. What is anomaly detection and what is its purpose?"
   ]
  },
  {
   "cell_type": "markdown",
   "id": "ead4da5f-ad54-4b7e-b8b1-79912b39cd6b",
   "metadata": {},
   "source": [
    "Anomaly detection is a technique in machine learning used to identify patterns in data that significantly deviates from expected behavior.\n",
    "\n",
    "The primary purpose of anomaly detection is to higlight the observation that are rare or unusual from the majority of data."
   ]
  },
  {
   "cell_type": "code",
   "execution_count": null,
   "id": "8a54b5b1-e28b-4ff2-ba1a-6e548ab55e01",
   "metadata": {},
   "outputs": [],
   "source": []
  },
  {
   "cell_type": "markdown",
   "id": "46ab8cee-77a2-4126-90d5-636ab2b062a7",
   "metadata": {},
   "source": [
    "## Q2. What are the key challenges in anomaly detection?"
   ]
  },
  {
   "cell_type": "markdown",
   "id": "7c02411f-9831-4ad5-8196-cbc147d05e46",
   "metadata": {},
   "source": [
    "In many real-world scenarios, anomalies are rare events, leading to imbalanced datasets where normal instances significantly outnumber anomalies. \n",
    "\n",
    "Labeled data can hinder supervised machine learning approaches for anomly detection.\n",
    "\n",
    "Scalability can become challenge for anomly detection, traditional technique can't handle the high volume data.\n",
    "\n",
    "Noise in the data that are not anomalies can interfere in performance of anomly detection, leading to false positive.\n",
    "\n",
    "Anomalies identified by the model need to be interpretable and explainable for human analysts to understand the reasons behind the detection."
   ]
  },
  {
   "cell_type": "code",
   "execution_count": null,
   "id": "732d004f-2450-4f17-a226-dab6c9588d11",
   "metadata": {},
   "outputs": [],
   "source": []
  },
  {
   "cell_type": "markdown",
   "id": "3f5cb9f7-ca05-4e72-9f73-5e358958059f",
   "metadata": {},
   "source": [
    "## Q3. How does unsupervised anomaly detection differ from supervised anomaly detection?"
   ]
  },
  {
   "cell_type": "markdown",
   "id": "803ce24f-6a8a-404f-885e-4f060e86e7b1",
   "metadata": {},
   "source": [
    "* Unsupervised Anomaly Detection\n",
    "\n",
    "In unsupervised anomaly detection model learns the pattern from unlabeled data.\n",
    "\n",
    "Goal is to detect ususual pattern without prior knowledge of what constitues an anomaly.\n",
    "\n",
    "* Supervised Anomaly Detection\n",
    "\n",
    "In supervised anomaly detection we train model on labeled data.\n",
    "\n",
    "Supervised methods are applieed when there is a sufficient labeled data for train the model.The approach is usefull when the charecteristcs of anomaly are well-definded and can be used for training the model."
   ]
  },
  {
   "cell_type": "code",
   "execution_count": null,
   "id": "d837789a-b2ac-4a4b-bde0-3857bbdf6ff1",
   "metadata": {},
   "outputs": [],
   "source": []
  },
  {
   "cell_type": "markdown",
   "id": "115ac484-67f5-4b44-bbb6-733e06c0a4e1",
   "metadata": {},
   "source": [
    "## Q4. What are the main categories of anomaly detection algorithms?"
   ]
  },
  {
   "cell_type": "markdown",
   "id": "7eb713a6-372b-42e9-93a8-bd4f649d755b",
   "metadata": {},
   "source": [
    "Supervised Anomaly Detection\n",
    "\n",
    "Unsupervised Anomaly Detection\n",
    "\n",
    "Semi-Supervised Anomaly Detection"
   ]
  },
  {
   "cell_type": "code",
   "execution_count": null,
   "id": "601907b2-ea2b-4550-850e-6e14d90c35d8",
   "metadata": {},
   "outputs": [],
   "source": []
  },
  {
   "cell_type": "markdown",
   "id": "8212804a-995d-4935-8368-e8e379a54100",
   "metadata": {},
   "source": [
    "## Q5. What are the main assumptions made by distance-based anomaly detection methods?"
   ]
  },
  {
   "cell_type": "markdown",
   "id": "8d8c81cd-0c58-4c77-b19c-b6a713573ef1",
   "metadata": {},
   "source": [
    "The majority of normal instances are in form of clusters.\n",
    "\n",
    "Anomalies are assumed to be isolated.\n",
    "\n",
    "Distance metrics are used to evaluate dissimilarity between instances accurately severity of anomalies. \n",
    "\n",
    "Clusters made by normal instances are assumed relatively homogeneous, that means all instances in cluster are similar to each other.\n",
    "\n",
    "This type of method also assume global perspective on data distribution."
   ]
  },
  {
   "cell_type": "code",
   "execution_count": null,
   "id": "f98b8eb5-6f82-4e17-a848-fc107d8654f1",
   "metadata": {},
   "outputs": [],
   "source": []
  },
  {
   "cell_type": "markdown",
   "id": "50825e08-9d4c-44ba-989b-dcbbd67deb9b",
   "metadata": {},
   "source": [
    "## Q6. How does the LOF algorithm compute anomaly scores?"
   ]
  },
  {
   "cell_type": "markdown",
   "id": "d4f25eec-900f-4d67-8625-8585bb5fcbaa",
   "metadata": {},
   "source": [
    "LOF algorithm is distance based anomaly detection technique.\n",
    "\n",
    "There is two important terms in LOF that is 'Global Outlier' and 'Local Outlier'.\n",
    "\n",
    "Instance that is too far from any cluster called 'Global Outlier' and instance that is bit close to any cluster called 'Local Outlier'.\n",
    "\n",
    "We cosider 'Global Outlier' as outlier of our data and we can decide 'Local Outlier' is outlier or not with some distance metric.\n",
    "\n",
    "First of all we calculate the distance between 'Local Outlier' and n neighbors of it.By doing this we get a dissimilarity between 'Local Oulier' and neighbors.\n",
    "\n",
    "After that we will calculate the distance between that n neighbors with each other.By doing this we get a similarity between neighbors.\n",
    "\n",
    "Finally if our distance between 'Local Outlier' and n neighbors will high that n neighbors with each other so will cosider that 'Local Outlier' as outlier and vice versa."
   ]
  },
  {
   "cell_type": "code",
   "execution_count": null,
   "id": "622343b2-379a-4007-8b12-eee84ff8457f",
   "metadata": {},
   "outputs": [],
   "source": []
  },
  {
   "cell_type": "markdown",
   "id": "9be5620b-8374-4062-88bf-57ff3e685d4e",
   "metadata": {},
   "source": [
    "## Q7. What are the key parameters of the Isolation Forest algorithm?"
   ]
  },
  {
   "cell_type": "markdown",
   "id": "19bdd23b-1257-49d2-9667-f7f3daef50d3",
   "metadata": {},
   "source": [
    "n_estimator - The number of trees in the forest.\n",
    "\n",
    "max_trees - The number of samples drawn to build each isolation tree.\n",
    "\n",
    "contamination - The proportion of outliers or anomalies in the dataset.\n",
    "\n",
    "max_features -  The number of features to consider when splitting a node."
   ]
  },
  {
   "cell_type": "code",
   "execution_count": null,
   "id": "efd0d217-402f-4d09-9a04-81bda1d34b58",
   "metadata": {},
   "outputs": [],
   "source": []
  },
  {
   "cell_type": "markdown",
   "id": "83c24c06-7ad2-4aac-9b76-4426394fce66",
   "metadata": {},
   "source": [
    "## Q8. If a data point has only 2 neighbours of the same class within a radius of 0.5, what is its anomaly score using KNN with K=10?"
   ]
  },
  {
   "cell_type": "markdown",
   "id": "6a60bfae-4280-489c-9f46-aeeaae8136ad",
   "metadata": {},
   "source": [
    "If a data point has only 2 neighbors of the same class within a radius of 0.5, it implies that these two neighbors are the only ones within that distance.\n",
    "\n",
    "The fact that there are only 2 neighbors of the same class suggests that the other 8 nearest neighbors are likely of a different class.\n",
    "\n",
    "An anomaly score in KNN is often based on the distance to the k-th nearest neighbor.\n",
    "\n",
    "Since you have only 2 neighbors of the same class within a radius of 0.5, it's likely that the distance to the 10th nearest neighbor will be relatively large.\n",
    "\n",
    "Consequently, the anomaly score for this data point is likely to be higher, indicating that it deviates from the majority of its nearest neighbors."
   ]
  },
  {
   "cell_type": "code",
   "execution_count": null,
   "id": "ae94456e-3920-4091-a5b7-0b76be94446a",
   "metadata": {},
   "outputs": [],
   "source": []
  },
  {
   "cell_type": "markdown",
   "id": "4a9e0f82-e86a-401c-ab59-7d76b98d2d60",
   "metadata": {},
   "source": [
    "## Q9. Using the Isolation Forest algorithm with 100 trees and a dataset of 3000 data points, what is the anomaly score for a data point that has an average path length of 5.0 compared to the average path length of the trees?"
   ]
  },
  {
   "cell_type": "markdown",
   "id": "da06398e-3efb-483c-926a-7eb671994a72",
   "metadata": {},
   "source": [
    "To find the anomaly score we have to compare average path length of data point to the average path length of tree.\n",
    "\n",
    "Decision :\n",
    "\n",
    "If average path length of trees is significantly higher that average path length of data point for all trees - Outlier or Anomaly\n",
    "\n",
    "If the average path length of trees is smaller that average path length"
   ]
  }
 ],
 "metadata": {
  "kernelspec": {
   "display_name": "Python 3 (ipykernel)",
   "language": "python",
   "name": "python3"
  },
  "language_info": {
   "codemirror_mode": {
    "name": "ipython",
    "version": 3
   },
   "file_extension": ".py",
   "mimetype": "text/x-python",
   "name": "python",
   "nbconvert_exporter": "python",
   "pygments_lexer": "ipython3",
   "version": "3.10.8"
  }
 },
 "nbformat": 4,
 "nbformat_minor": 5
}
